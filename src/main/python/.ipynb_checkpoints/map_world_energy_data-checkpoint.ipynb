{
 "cells": [
  {
   "cell_type": "code",
   "execution_count": 8,
   "metadata": {},
   "outputs": [],
   "source": [
    "from __future__ import print_function\n",
    "import openpyxl"
   ]
  },
  {
   "cell_type": "code",
   "execution_count": 2,
   "metadata": {},
   "outputs": [],
   "source": [
    "wb = openpyxl.load_workbook(\"data/Enerdata_Energy_Statistical_Yearbook_2016.xlsx\")\n",
    "wb.get_sheet_names()"
   ]
  },
  {
   "cell_type": "code",
   "execution_count": 5,
   "metadata": {},
   "outputs": [],
   "source": [
    "total_pp = wb.get_sheet_by_name(\"Total primary production\")"
   ]
  },
  {
   "cell_type": "code",
   "execution_count": 12,
   "metadata": {},
   "outputs": [],
   "source": [
    "c = total_pp.columns.next()"
   ]
  },
  {
   "cell_type": "code",
   "execution_count": 16,
   "metadata": {},
   "outputs": [
    {
     "name": "stdout",
     "output_type": "stream",
     "text": [
      "Total primary production (Mtoe)\n",
      "Back to list of tables\n",
      "None\n",
      "World\n",
      "OECD\n",
      "G7\n",
      "BRICS\n",
      "Europe\n",
      "European Union\n",
      "Belgium\n",
      "Czech Rep.\n",
      "France\n",
      "Germany\n",
      "Italy\n",
      "Netherlands\n",
      "Poland\n",
      "Portugal\n",
      "Romania\n",
      "Spain\n",
      "Sweden\n",
      "United Kingdom\n",
      "Norway\n",
      "Turkey\n",
      "CIS\n",
      "Kazakhstan\n",
      "Russia\n",
      "Ukraine\n",
      "Uzbekistan\n",
      "America\n",
      "North America\n",
      "Canada\n",
      "United States\n",
      "Latin America\n",
      "Argentina\n",
      "Brazil\n",
      "Chile\n",
      "Colombia\n",
      "Mexico\n",
      "Venezuela\n",
      "Asia\n",
      "China\n",
      "India\n",
      "Indonesia\n",
      "Japan\n",
      "Malaysia\n",
      "South Korea\n",
      "Taiwan\n",
      "Thailand\n",
      "Pacific\n",
      "Australia\n",
      "New Zealand\n",
      "Africa\n",
      "Algeria\n",
      "Egypt\n",
      "Nigeria\n",
      "South Africa\n",
      "Middle-East\n",
      "Iran\n",
      "Kuwait\n",
      "Saudi Arabia\n",
      "United Arab Emirates\n",
      "n.a. : non avalaible \n",
      "Source : \n"
     ]
    }
   ],
   "source": [
    "for cell in c:\n",
    "    print(cell.value)"
   ]
  },
  {
   "cell_type": "code",
   "execution_count": 21,
   "metadata": {},
   "outputs": [
    {
     "name": "stdout",
     "output_type": "stream",
     "text": [
      "None\n",
      "None\n",
      "1990\n",
      "8817.292066\n",
      "3444.273578\n",
      "2531.851674\n",
      "2700.456322\n",
      "1133.348496\n",
      "955.099753\n",
      "13.035032\n",
      "41.552001\n",
      "111.945713\n",
      "190.130636\n",
      "25.753112\n",
      "60.560017\n",
      "104.242432\n",
      "3.402543\n",
      "40.807383\n",
      "35.262654\n",
      "29.65907\n",
      "208.006462\n",
      "119.483105\n",
      "25.520864\n",
      "1656.09751\n",
      "90.977383\n",
      "1296.034804\n",
      "126.607104\n",
      "38.655288\n",
      "2542.004974\n",
      "1920.942617\n",
      "273.52946\n",
      "1647.413157\n",
      "621.062357\n",
      "48.428952\n",
      "104.42639\n",
      "7.928817\n",
      "48.181292\n",
      "196.017402\n",
      "144.828675\n",
      "1693.23604\n",
      "904.030475\n",
      "281.428145\n",
      "168.540613\n",
      "75.073133\n",
      "48.82863\n",
      "24.349711\n",
      "10.649038\n",
      "26.580061\n",
      "175.933953\n",
      "157.418385\n",
      "12.010486\n",
      "676.719513\n",
      "100.112749\n",
      "54.861299\n",
      "146.30394\n",
      "114.536508\n",
      "939.95158\n",
      "187.839802\n",
      "50.378137\n",
      "368.442595\n",
      "110.202674\n",
      "None\n",
      "None\n"
     ]
    }
   ],
   "source": [
    "columns = total_pp.columns\n",
    "c0 = columns.next()\n",
    "c1 = columns.next()\n",
    "for cell in c1:\n",
    "    print(cell.value)"
   ]
  }
 ],
 "metadata": {
  "kernelspec": {
   "display_name": "Python 3",
   "language": "python",
   "name": "python3"
  },
  "language_info": {
   "codemirror_mode": {
    "name": "ipython",
    "version": 3
   },
   "file_extension": ".py",
   "mimetype": "text/x-python",
   "name": "python",
   "nbconvert_exporter": "python",
   "pygments_lexer": "ipython3",
   "version": "3.4.3"
  }
 },
 "nbformat": 4,
 "nbformat_minor": 1
}
